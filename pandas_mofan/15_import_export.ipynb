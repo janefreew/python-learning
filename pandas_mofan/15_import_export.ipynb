{
 "cells": [
  {
   "cell_type": "markdown",
   "metadata": {},
   "source": []
  },
  {
   "cell_type": "code",
   "execution_count": 2,
   "metadata": {},
   "outputs": [
    {
     "data": {
      "text/html": [
       "<div>\n",
       "<style scoped>\n",
       "    .dataframe tbody tr th:only-of-type {\n",
       "        vertical-align: middle;\n",
       "    }\n",
       "\n",
       "    .dataframe tbody tr th {\n",
       "        vertical-align: top;\n",
       "    }\n",
       "\n",
       "    .dataframe thead th {\n",
       "        text-align: right;\n",
       "    }\n",
       "</style>\n",
       "<table border=\"1\" class=\"dataframe\">\n",
       "  <thead>\n",
       "    <tr style=\"text-align: right;\">\n",
       "      <th></th>\n",
       "      <th>Platform</th>\n",
       "      <th>Status</th>\n",
       "      <th>Precision</th>\n",
       "      <th>Params</th>\n",
       "      <th>Metrics</th>\n",
       "      <th>Comparator</th>\n",
       "      <th>Throughput(Inf/Sec)</th>\n",
       "      <th>Latency(us)</th>\n",
       "    </tr>\n",
       "  </thead>\n",
       "  <tbody>\n",
       "    <tr>\n",
       "      <th>0</th>\n",
       "      <td>plat0_onnxrt</td>\n",
       "      <td>Success</td>\n",
       "      <td>fp32</td>\n",
       "      <td>NaN</td>\n",
       "      <td>bbox_mAP: 0.4749999999999999 \\nbbox_mAP_50: 0....</td>\n",
       "      <td>-</td>\n",
       "      <td>-</td>\n",
       "      <td>-</td>\n",
       "    </tr>\n",
       "    <tr>\n",
       "      <th>1</th>\n",
       "      <td>plat1_aic</td>\n",
       "      <td>Success</td>\n",
       "      <td>fp16</td>\n",
       "      <td>aic-num-of-instances:1 \\n</td>\n",
       "      <td>bbox_mAP: 0.4749999999999999 \\nbbox_mAP_50: 0....</td>\n",
       "      <td>Avg Match (all outputs): 99.969 \\n(avg) featur...</td>\n",
       "      <td>-</td>\n",
       "      <td>-</td>\n",
       "    </tr>\n",
       "  </tbody>\n",
       "</table>\n",
       "</div>"
      ],
      "text/plain": [
       "       Platform   Status Precision                     Params  \\\n",
       "0  plat0_onnxrt  Success      fp32                        NaN   \n",
       "1     plat1_aic  Success      fp16  aic-num-of-instances:1 \\n   \n",
       "\n",
       "                                             Metrics  \\\n",
       "0  bbox_mAP: 0.4749999999999999 \\nbbox_mAP_50: 0....   \n",
       "1  bbox_mAP: 0.4749999999999999 \\nbbox_mAP_50: 0....   \n",
       "\n",
       "                                          Comparator Throughput(Inf/Sec)  \\\n",
       "0                                                  -                   -   \n",
       "1  Avg Match (all outputs): 99.969 \\n(avg) featur...                   -   \n",
       "\n",
       "  Latency(us)  \n",
       "0           -  \n",
       "1           -  "
      ]
     },
     "execution_count": 2,
     "metadata": {},
     "output_type": "execute_result"
    }
   ],
   "source": [
    "import pandas as pd\n",
    "\n",
    "data = pd.read_csv('metrics-info.csv')\n",
    "\n",
    "data"
   ]
  },
  {
   "cell_type": "code",
   "execution_count": 5,
   "metadata": {},
   "outputs": [],
   "source": [
    "data.to_pickle('metrics-info.pickle')"
   ]
  }
 ],
 "metadata": {
  "kernelspec": {
   "display_name": "Python 3.8.13 ('pytorch_p38')",
   "language": "python",
   "name": "python3"
  },
  "language_info": {
   "codemirror_mode": {
    "name": "ipython",
    "version": 3
   },
   "file_extension": ".py",
   "mimetype": "text/x-python",
   "name": "python",
   "nbconvert_exporter": "python",
   "pygments_lexer": "ipython3",
   "version": "3.8.13"
  },
  "orig_nbformat": 4,
  "vscode": {
   "interpreter": {
    "hash": "63d0c77769a18fd130715fa0a2f0ff70fe90f62406ea2f995d0924944a5bb41e"
   }
  }
 },
 "nbformat": 4,
 "nbformat_minor": 2
}
