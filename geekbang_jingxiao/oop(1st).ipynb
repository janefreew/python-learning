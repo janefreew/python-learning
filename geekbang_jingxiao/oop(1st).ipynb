{
 "cells": [
  {
   "cell_type": "markdown",
   "id": "f17e3883",
   "metadata": {},
   "source": [
    "# 对象，你找到了吗\n",
    "\n",
    "\n",
    "  **__开头的属性是私有属性**\n"
   ]
  },
  {
   "cell_type": "code",
   "execution_count": 1,
   "id": "777bd54e",
   "metadata": {},
   "outputs": [
    {
     "name": "stdout",
     "output_type": "stream",
     "text": [
      "init function called\n",
      "Harry Potter\n",
      "J. K. Rowling\n",
      "77\n",
      "10\n"
     ]
    },
    {
     "ename": "AttributeError",
     "evalue": "'Document' object has no attribute '__context'",
     "output_type": "error",
     "traceback": [
      "\u001b[0;31m---------------------------------------------------------------------------\u001b[0m",
      "\u001b[0;31mAttributeError\u001b[0m                            Traceback (most recent call last)",
      "Input \u001b[0;32mIn [1]\u001b[0m, in \u001b[0;36m<cell line: 24>\u001b[0;34m()\u001b[0m\n\u001b[1;32m     20\u001b[0m harry_potter_book\u001b[38;5;241m.\u001b[39mintercept_context(\u001b[38;5;241m10\u001b[39m)\n\u001b[1;32m     22\u001b[0m \u001b[38;5;28mprint\u001b[39m(harry_potter_book\u001b[38;5;241m.\u001b[39mget_context_length())\n\u001b[0;32m---> 24\u001b[0m \u001b[38;5;28mprint\u001b[39m(\u001b[43mharry_potter_book\u001b[49m\u001b[38;5;241;43m.\u001b[39;49m\u001b[43m__context\u001b[49m)\n",
      "\u001b[0;31mAttributeError\u001b[0m: 'Document' object has no attribute '__context'"
     ]
    }
   ],
   "source": [
    "\n",
    "class Document():\n",
    "    def __init__(self, title, author, context):\n",
    "        print('init function called')\n",
    "        self.title = title\n",
    "        self.author = author\n",
    "        self.__context = context # __开头的属性是私有属性\n",
    "\n",
    "    def get_context_length(self):\n",
    "        return len(self.__context)\n",
    "\n",
    "    def intercept_context(self, length):\n",
    "        self.__context = self.__context[:length]\n",
    "\n",
    "harry_potter_book = Document('Harry Potter', 'J. K. Rowling', '... Forever Do not believe any thing is capable of thinking independently ...')\n",
    "\n",
    "print(harry_potter_book.title)\n",
    "print(harry_potter_book.author)\n",
    "print(harry_potter_book.get_context_length())\n",
    "\n",
    "harry_potter_book.intercept_context(10)\n",
    "\n",
    "print(harry_potter_book.get_context_length())\n",
    "\n",
    "print(harry_potter_book.__context)\n",
    "\n"
   ]
  },
  {
   "cell_type": "markdown",
   "id": "2cb1c8d4",
   "metadata": {},
   "source": [
    "\n",
    "     init 表示构造函数，意即一个对象生成时会被自动调用的函数。\n",
    " \n",
    "     如果一个属性以 __ （注意，此处有两个 _） 开头，我们就默认这个属性是私有属性。私有属性，是指不希望在类的函数之外的地方被访问和修改的属性。\n",
    "\n",
    "## 问题\n",
    "   \n",
    "   \n",
    "     如何在一个类中定义一些常量，每个对象都可以方便访问这些常量而不用重新构造？\n",
    "     如果一个函数不涉及到访问修改这个类的属性，而放到类外面有点不恰当，怎么做才能更优雅呢？\n",
    "     类是一群相似的对象的集合，那么可不可以是一群相似的类的集合呢？"
   ]
  },
  {
   "cell_type": "code",
   "execution_count": null,
   "id": "cc38c358",
   "metadata": {},
   "outputs": [],
   "source": [
    "\n",
    "class Document():\n",
    "    \n",
    "    WELCOME_STR = 'Welcome! The context for this book is {}.'\n",
    "    \n",
    "    def __init__(self, title, author, context):\n",
    "        print('init function called')\n",
    "        self.title = title\n",
    "        self.author = author\n",
    "        self.__context = context\n",
    "    \n",
    "    # 类函数\n",
    "    @classmethod\n",
    "    def create_empty_book(cls, title, author):\n",
    "        return cls(title=title, author=author, context='nothing')\n",
    "    \n",
    "    # 成员函数\n",
    "    def get_context_length(self):\n",
    "        return len(self.__context)\n",
    "    \n",
    "    # 静态函数\n",
    "    @staticmethod\n",
    "    def get_welcome(context):\n",
    "        return Document.WELCOME_STR.format(context)\n",
    "\n",
    "\n",
    "empty_book = Document.create_empty_book('What Every Man Thinks About Apart from Sex', 'Professor Sheridan Simove')\n",
    "\n",
    "\n",
    "print(empty_book.get_context_length())\n",
    "print(empty_book.get_welcome('indeed nothing'))\n"
   ]
  },
  {
   "cell_type": "markdown",
   "id": "97356277",
   "metadata": {},
   "source": [
    "    \n",
    "    \n",
    "    1. 如何在一个类中定义一些常量，每个对象都可以方便访问这些常量而不用重新构造？\n",
    "    \n",
    "        一种很常规的做法，是用全大写来表示常量\n",
    "        类中使用 self.WELCOME_STR ，或者在类外使用 Entity.WELCOME_STR       \n",
    "        \n",
    "     2. 如果一个函数不涉及到访问修改这个类的属性，而放到类外面有点不恰当，怎么做才能更优雅呢？\n",
    "     \n",
    "         类函数、成员函数和静态函数\n",
    "         \n",
    "             前两者产生的影响是动态的，能够访问或者修改对象的属性；而静态函数则与类没有什么关联，最明显的特征便是，静态函数的第一个参数没有任何特殊性。\n",
    "             \n",
    "             而类函数的第一个参数一般为 cls，表示必须传一个类进来。类函数最常用的功能是实现不同的 init 构造函数，比如上文代码中，我们使用 create_empty_book 类函数，来创造新的书籍对象，其 context 一定为 'nothing'。这样的代码，就比你直接构造要清晰一些。类似的，类函数需要装饰器 @classmethod 来声明。成员函数则是我们最正常的类的函数，它不需要任何装饰器声明，第一个参数 self 代表当前对象的引用，可以通过此函数，来实现想要的查询 / 修改类的属性等功能。\n",
    "         \n",
    "         \n",
    "     3. 类是一群相似的对象的集合，那么可不可以是一群相似的类的集合呢？"
   ]
  },
  {
   "cell_type": "markdown",
   "id": "4e322a6e",
   "metadata": {},
   "source": [
    "# 继承"
   ]
  },
  {
   "cell_type": "code",
   "execution_count": 3,
   "id": "8be72b4f",
   "metadata": {},
   "outputs": [
    {
     "name": "stdout",
     "output_type": "stream",
     "text": [
      "Document class init called\n",
      "parent class init called\n",
      "Video class init called\n",
      "parent class init called\n",
      "document\n",
      "video\n",
      "Harry Potter(Book)\n",
      "Harry Potter(Movie)\n",
      "77\n",
      "120\n"
     ]
    }
   ],
   "source": [
    "\n",
    "class Entity():\n",
    "    def __init__(self, object_type):\n",
    "        print('parent class init called')\n",
    "        self.object_type = object_type\n",
    "    \n",
    "    def get_context_length(self):\n",
    "        raise Exception('get_context_length not implemented')\n",
    "    \n",
    "    def print_title(self):\n",
    "        print(self.title)\n",
    "\n",
    "class Document(Entity):\n",
    "    def __init__(self, title, author, context):\n",
    "        print('Document class init called')\n",
    "        Entity.__init__(self, 'document')\n",
    "        self.title = title\n",
    "        self.author = author\n",
    "        self.__context = context\n",
    "    \n",
    "    def get_context_length(self):\n",
    "        return len(self.__context)\n",
    "    \n",
    "class Video(Entity):\n",
    "    def __init__(self, title, author, video_length):\n",
    "        print('Video class init called')\n",
    "        Entity.__init__(self, 'video')\n",
    "        self.title = title\n",
    "        self.author = author\n",
    "        self.__video_length = video_length\n",
    "    \n",
    "    def get_context_length(self):\n",
    "        return self.__video_length\n",
    "\n",
    "harry_potter_book = Document('Harry Potter(Book)', 'J. K. Rowling', '... Forever Do not believe any thing is capable of thinking independently ...')\n",
    "harry_potter_movie = Video('Harry Potter(Movie)', 'J. K. Rowling', 120)\n",
    "\n",
    "print(harry_potter_book.object_type)\n",
    "print(harry_potter_movie.object_type)\n",
    "\n",
    "harry_potter_book.print_title()\n",
    "harry_potter_movie.print_title()\n",
    "\n",
    "print(harry_potter_book.get_context_length())\n",
    "print(harry_potter_movie.get_context_length())\n",
    "\n"
   ]
  },
  {
   "cell_type": "markdown",
   "id": "6b303684",
   "metadata": {},
   "source": [
    "首先需要注意的是构造函数。每个类都有构造函数，继承类在生成对象的时候，是**不会自动**调用父类的构造函数的，因此你必须在 init() 函数中显式调用父类的构造函数。它们的**执行顺序**是 子类的构造函数 -> 父类的构造函数。\n",
    "\n",
    "其次需要注意父类 get_context_length() 函数。如果使用 Entity 直接生成对象，调用 get_context_length() 函数，就会 raise error 中断程序的执行。这其实是一种很好的写法，叫做**函数重写**，可以使子类必须重新写一遍 get_context_length() 函数，来覆盖掉原有函数。\n",
    "\n",
    "最后需要注意到 print_title() 函数，这个函数定义在父类中，但是子类的对象可以毫无阻力地使用它来打印 title，这也就体现了继承的优势：减少重复的代码，降低系统的熵值（即复杂度）。"
   ]
  },
  {
   "cell_type": "markdown",
   "id": "c804d96f",
   "metadata": {},
   "source": [
    "## 抽象函数和抽象类\n",
    "\n"
   ]
  },
  {
   "cell_type": "code",
   "execution_count": 4,
   "id": "e0ddfb94",
   "metadata": {},
   "outputs": [
    {
     "name": "stdout",
     "output_type": "stream",
     "text": [
      "Harry Potter\n"
     ]
    },
    {
     "ename": "TypeError",
     "evalue": "Can't instantiate abstract class Entity with abstract methods get_title, set_title",
     "output_type": "error",
     "traceback": [
      "\u001b[0;31m---------------------------------------------------------------------------\u001b[0m",
      "\u001b[0;31mTypeError\u001b[0m                                 Traceback (most recent call last)",
      "Input \u001b[0;32mIn [4]\u001b[0m, in \u001b[0;36m<cell line: 23>\u001b[0;34m()\u001b[0m\n\u001b[1;32m     20\u001b[0m document\u001b[38;5;241m.\u001b[39mset_title(\u001b[38;5;124m'\u001b[39m\u001b[38;5;124mHarry Potter\u001b[39m\u001b[38;5;124m'\u001b[39m)\n\u001b[1;32m     21\u001b[0m \u001b[38;5;28mprint\u001b[39m(document\u001b[38;5;241m.\u001b[39mget_title())\n\u001b[0;32m---> 23\u001b[0m entity \u001b[38;5;241m=\u001b[39m \u001b[43mEntity\u001b[49m\u001b[43m(\u001b[49m\u001b[43m)\u001b[49m\n",
      "\u001b[0;31mTypeError\u001b[0m: Can't instantiate abstract class Entity with abstract methods get_title, set_title"
     ]
    }
   ],
   "source": [
    "\n",
    "from abc import ABCMeta, abstractmethod\n",
    "\n",
    "class Entity(metaclass=ABCMeta):\n",
    "    @abstractmethod\n",
    "    def get_title(self):\n",
    "        pass\n",
    "\n",
    "    @abstractmethod\n",
    "    def set_title(self, title):\n",
    "        pass\n",
    "\n",
    "class Document(Entity):\n",
    "    def get_title(self):\n",
    "        return self.title\n",
    "    \n",
    "    def set_title(self, title):\n",
    "        self.title = title\n",
    "\n",
    "document = Document()\n",
    "document.set_title('Harry Potter')\n",
    "print(document.get_title())\n",
    "\n",
    "entity = Entity()\n"
   ]
  },
  {
   "cell_type": "code",
   "execution_count": 5,
   "id": "1ce918ae",
   "metadata": {},
   "outputs": [
    {
     "name": "stdout",
     "output_type": "stream",
     "text": [
      "enter D\n",
      "enter B\n",
      "enter C\n",
      "enter A\n",
      "leave A\n",
      "leave C\n",
      "leave B\n",
      "leave D\n"
     ]
    },
    {
     "data": {
      "text/plain": [
       "<__main__.D at 0x1043765e0>"
      ]
     },
     "execution_count": 5,
     "metadata": {},
     "output_type": "execute_result"
    }
   ],
   "source": [
    "class A():\n",
    "    def __init__(self):\n",
    "        print('enter A')\n",
    "        print('leave A')\n",
    "\n",
    "class B(A):\n",
    "    def __init__(self):\n",
    "        print('enter B')\n",
    "        super().__init__()\n",
    "        print('leave B')\n",
    "\n",
    "class C(A):\n",
    "    def __init__(self):\n",
    "        print('enter C')\n",
    "        super().__init__()\n",
    "        print('leave C')\n",
    "\n",
    "class D(B,C ):\n",
    "    def __init__(self):\n",
    "        print('enter D')\n",
    "        super().__init__()\n",
    "        print('leave D')\n",
    "\n",
    "D()"
   ]
  },
  {
   "cell_type": "code",
   "execution_count": 11,
   "id": "8a40d1af",
   "metadata": {},
   "outputs": [
    {
     "name": "stdout",
     "output_type": "stream",
     "text": [
      "enter D\n",
      "enter C\n",
      "enter B\n",
      "enter A\n",
      "leave A\n",
      "leave B\n",
      "leave C\n",
      "leave D\n"
     ]
    },
    {
     "data": {
      "text/plain": [
       "<__main__.D at 0x1045e45b0>"
      ]
     },
     "execution_count": 11,
     "metadata": {},
     "output_type": "execute_result"
    }
   ],
   "source": [
    "class A():\n",
    "    def __init__(self):\n",
    "        print('enter A')\n",
    "        print('leave A')\n",
    "\n",
    "class B(A):\n",
    "    def __init__(self):\n",
    "        print('enter B')\n",
    "        super().__init__()\n",
    "        print('leave B')\n",
    "\n",
    "class C(A):\n",
    "    def __init__(self):\n",
    "        print('enter C')\n",
    "        super().__init__()\n",
    "        print('leave C')\n",
    "\n",
    "class D( C,B):\n",
    "    def __init__(self):\n",
    "        print('enter D')\n",
    "        super().__init__()\n",
    "        print('leave D')\n",
    "\n",
    "D()"
   ]
  },
  {
   "cell_type": "code",
   "execution_count": null,
   "id": "ea9b4c08",
   "metadata": {},
   "outputs": [],
   "source": []
  }
 ],
 "metadata": {
  "kernelspec": {
   "display_name": "Python 3 (ipykernel)",
   "language": "python",
   "name": "python3"
  },
  "language_info": {
   "codemirror_mode": {
    "name": "ipython",
    "version": 3
   },
   "file_extension": ".py",
   "mimetype": "text/x-python",
   "name": "python",
   "nbconvert_exporter": "python",
   "pygments_lexer": "ipython3",
   "version": "3.9.12"
  },
  "toc": {
   "base_numbering": 1,
   "nav_menu": {},
   "number_sections": true,
   "sideBar": true,
   "skip_h1_title": false,
   "title_cell": "Table of Contents",
   "title_sidebar": "Contents",
   "toc_cell": false,
   "toc_position": {},
   "toc_section_display": true,
   "toc_window_display": false
  }
 },
 "nbformat": 4,
 "nbformat_minor": 5
}
