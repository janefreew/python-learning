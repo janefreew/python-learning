{
 "cells": [
  {
   "attachments": {},
   "cell_type": "markdown",
   "metadata": {},
   "source": [
    "# 函数核心回顾\n",
    "- 在 Python 中，函数是一等公民（first-class citizen），函数也是对象。我们可以把函数赋予变量\n",
    "- 把函数当作参数，传入另一个函数中\n",
    "- 函数里定义函数，也就是函数的嵌套\n",
    "- 第四点，要知道，函数的返回值也可以是函数对象（闭包)\n",
    " -合理地使用闭包，则可以简化程序的复杂度，提高可读性 有时候类似函数的嵌套，也可以提高效率\n",
    "\n",
    "\n"
   ]
  },
  {
   "cell_type": "code",
   "execution_count": null,
   "metadata": {},
   "outputs": [],
   "source": [
    "\n",
    "def func_closure():\n",
    "    def get_message(message):\n",
    "        print('Got a message: {}'.format(message))\n",
    "    return get_message\n",
    "\n",
    "send_message = func_closure()\n",
    "send_message('hello world')\n",
    "\n",
    "# 输出"
   ]
  },
  {
   "attachments": {},
   "cell_type": "markdown",
   "metadata": {},
   "source": [
    "[pyyaml](https://pyyaml.org/wiki/LibYAML)"
   ]
  }
 ],
 "metadata": {
  "kernelspec": {
   "display_name": "mltools",
   "language": "python",
   "name": "python3"
  },
  "language_info": {
   "name": "python",
   "version": "3.8.15 | packaged by conda-forge | (default, Nov 22 2022, 08:49:06) \n[Clang 14.0.6 ]"
  },
  "orig_nbformat": 4,
  "vscode": {
   "interpreter": {
    "hash": "ce1cd4a375fc1416293ca7d886fb469d5d778c783bfa8fb4db8e9db71b828d70"
   }
  }
 },
 "nbformat": 4,
 "nbformat_minor": 2
}
