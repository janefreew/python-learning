{
 "cells": [
  {
   "cell_type": "markdown",
   "id": "610aec29",
   "metadata": {},
   "source": [
    "## 输入输出基础\n",
    "\n",
    "* 输入的类型永远是字符串型（str）"
   ]
  },
  {
   "cell_type": "code",
   "execution_count": 1,
   "id": "3fd0989c",
   "metadata": {},
   "outputs": [
    {
     "name": "stdout",
     "output_type": "stream",
     "text": [
      "your name:cuncun\n",
      "you are a boy?(y/n)n\n",
      "authorizing...\n",
      "Welcome to the matrix Mrs cuncun.\n"
     ]
    }
   ],
   "source": [
    "\n",
    "name = input('your name:')\n",
    "gender = input('you are a boy?(y/n)')\n",
    "\n",
    "\n",
    "welcome_str = 'Welcome to the matrix {prefix} {name}.'\n",
    "welcome_dic = {\n",
    "    'prefix': 'Mr.' if gender == 'y' else 'Mrs',\n",
    "    'name': name\n",
    "}\n",
    "\n",
    "print('authorizing...')\n",
    "print(welcome_str.format(**welcome_dic))\n",
    "\n"
   ]
  },
  {
   "cell_type": "code",
   "execution_count": 2,
   "id": "bd845f7a",
   "metadata": {},
   "outputs": [
    {
     "name": "stdout",
     "output_type": "stream",
     "text": [
      "1\n",
      "2\n",
      "a + b = 12\n",
      "type of a is <class 'str'>, type of b is <class 'str'>\n",
      "a + b = 3\n"
     ]
    }
   ],
   "source": [
    "\n",
    "a = input()\n",
    "\n",
    "b = input()\n",
    "\n",
    "\n",
    "print('a + b = {}'.format(a + b))\n",
    "print('type of a is {}, type of b is {}'.format(type(a), type(b)))\n",
    "\n",
    "\n",
    "print('a + b = {}'.format(int(a) + int(b)))\n"
   ]
  },
  {
   "cell_type": "markdown",
   "id": "793723f5",
   "metadata": {},
   "source": [
    "## 文件输入输出\n",
    "\n",
    "首先，我们要清楚 NLP 任务的基本步骤，也就是下面的四步：\n",
    "   \n",
    "    读取文件；\n",
    "    去除所有标点符号和换行符，并把所有大写变成小写；\n",
    "    合并相同的词，统计每个词出现的频率，并按照词频从大到小排序；\n",
    "    将结果按行输出到文件 out.txt。"
   ]
  },
  {
   "cell_type": "code",
   "execution_count": 6,
   "id": "18776e64",
   "metadata": {},
   "outputs": [],
   "source": [
    "\n",
    "import re\n",
    "\n",
    "# 你不用太关心这个函数\n",
    "def parse(text):\n",
    "    # 使用正则表达式去除标点符号和换行符\n",
    "    text = re.sub(r'[^\\w ]', ' ', text)\n",
    "\n",
    "    # 转为小写\n",
    "    text = text.lower()\n",
    "    \n",
    "    # 生成所有单词的列表\n",
    "    word_list = text.split(' ')\n",
    "    \n",
    "    # 去除空白单词\n",
    "    word_list = filter(None, word_list)\n",
    "    \n",
    "    # 生成单词和词频的字典\n",
    "    word_cnt = {}\n",
    "    for word in word_list:\n",
    "        if word not in word_cnt:\n",
    "            word_cnt[word] = 0\n",
    "        word_cnt[word] += 1\n",
    "    \n",
    "    # 按照词频排序\n",
    "    sorted_word_cnt = sorted(word_cnt.items(), key=lambda kv: kv[1], reverse=True)\n",
    "    \n",
    "    return sorted_word_cnt\n",
    "\n",
    "with open('in.txt', 'r') as fin:\n",
    "    text = fin.read()\n",
    "\n",
    "word_and_freq = parse(text)\n",
    "\n",
    "with open('out.txt', 'w') as fout:\n",
    "    for word, freq in word_and_freq:\n",
    "        fout.write('{} {}\\n'.format(word, freq))\n",
    "\n"
   ]
  },
  {
   "cell_type": "markdown",
   "id": "d755e13b",
   "metadata": {},
   "source": [
    "用 open() 函数拿到文件的指针。\n",
    "其中，第一个参数指定文件位置（相对位置或者绝对位置）；\n",
    "第二个参数，\n",
    "    如果是 'r' 表示读取，\n",
    "    如果是'w' 则表示写入，\n",
    "    'rw' ，表示读写都要。\n",
    "    a 则是一个不太常用（但也很有用）的参数，表示追加（append），会从原始文件的最末尾开始写入。\n",
    "    \n",
    "在拿到指针后，我们可以通过 read() 函数，来读取文件的全部内容。代码 text = fin.read() ，即表示把文件所有内容读取到内存中，并赋值给变量 text。这么做自然也是有利有弊：\n",
    "\n",
    "    优点是方便，接下来我们可以很方便地调用 parse 函数进行分析；\n",
    "    缺点是如果文件过大，一次性读取可能造成内存崩溃。\n",
    "    \n",
    "    \n",
    "这时，我们可以给 read 指定参数 size ，用来表示读取的最大长度。还可以通过 readline() 函数，每次读取一行，这种做法常用于数据挖掘（Data Mining）中的数据清洗，在写一些小的程序时非常轻便。如果每行之间没有关联，这种做法也可以降低内存的压力。"
   ]
  },
  {
   "cell_type": "markdown",
   "id": "a747239d",
   "metadata": {},
   "source": [
    "##  JSON 序列化与实战\n",
    "\n",
    "JSON ，正能解决这个场景。\n",
    "\n",
    "    你可以把它简单地理解为两种黑箱：\n",
    "    第一种，输入这些杂七杂八的信息，比如 Python 字典，输出一个字符串；\n",
    "    第二种，输入这个字符串，可以输出包含原始信息的 Python 字典。"
   ]
  },
  {
   "cell_type": "code",
   "execution_count": 7,
   "id": "1f7174f1",
   "metadata": {},
   "outputs": [
    {
     "name": "stdout",
     "output_type": "stream",
     "text": [
      "after json serialization\n",
      "type of params_str = <class 'str'>, params_str = {'symbol': '123456', 'type': 'limit', 'price': 123.4, 'amount': 23}\n",
      "after json deserialization\n",
      "type of original_params = <class 'dict'>, original_params = {'symbol': '123456', 'type': 'limit', 'price': 123.4, 'amount': 23}\n"
     ]
    }
   ],
   "source": [
    "\n",
    "import json\n",
    "\n",
    "params = {\n",
    "    'symbol': '123456',\n",
    "    'type': 'limit',\n",
    "    'price': 123.4,\n",
    "    'amount': 23\n",
    "}\n",
    "\n",
    "params_str = json.dumps(params)\n",
    "\n",
    "print('after json serialization')\n",
    "print('type of params_str = {}, params_str = {}'.format(type(params_str), params))\n",
    "\n",
    "original_params = json.loads(params_str)\n",
    "\n",
    "print('after json deserialization')\n",
    "print('type of original_params = {}, original_params = {}'.format(type(original_params), original_params))\n",
    "\n"
   ]
  },
  {
   "cell_type": "markdown",
   "id": "34c0444b",
   "metadata": {},
   "source": [
    "### json.dumps()\n",
    "\n",
    "接受 Python 的基本数据类型，然后将其序列化为 string；\n",
    "\n",
    "\n",
    "### json.loads()\n",
    "\n",
    "接受一个合法字符串，然后将其反序列化为 Python 的基本数据类型。\n",
    "\n",
    "\n",
    "**请记得加上错误处理"
   ]
  },
  {
   "cell_type": "code",
   "execution_count": 8,
   "id": "767e2a7c",
   "metadata": {},
   "outputs": [
    {
     "name": "stdout",
     "output_type": "stream",
     "text": [
      "after json deserialization\n",
      "type of original_params = <class 'dict'>, original_params = {'symbol': '123456', 'type': 'limit', 'price': 123.4, 'amount': 23}\n"
     ]
    }
   ],
   "source": [
    "\n",
    "import json\n",
    "\n",
    "params = {\n",
    "    'symbol': '123456',\n",
    "    'type': 'limit',\n",
    "    'price': 123.4,\n",
    "    'amount': 23\n",
    "}\n",
    "\n",
    "with open('params.json', 'w') as fout:\n",
    "    params_str = json.dump(params, fout)\n",
    "\n",
    "with open('params.json', 'r') as fin:\n",
    "    original_params = json.load(fin)\n",
    "\n",
    "print('after json deserialization')\n",
    "print('type of original_params = {}, original_params = {}'.format(type(original_params), original_params))\n",
    "\n"
   ]
  },
  {
   "cell_type": "code",
   "execution_count": null,
   "id": "4f42789a",
   "metadata": {},
   "outputs": [],
   "source": []
  }
 ],
 "metadata": {
  "kernelspec": {
   "display_name": "Python 3",
   "language": "python",
   "name": "python3"
  },
  "language_info": {
   "codemirror_mode": {
    "name": "ipython",
    "version": 3
   },
   "file_extension": ".py",
   "mimetype": "text/x-python",
   "name": "python",
   "nbconvert_exporter": "python",
   "pygments_lexer": "ipython3",
   "version": "3.10.6 (main, Aug 30 2022, 04:58:14) [Clang 13.1.6 (clang-1316.0.21.2.5)]"
  },
  "toc": {
   "base_numbering": 1,
   "nav_menu": {},
   "number_sections": true,
   "sideBar": true,
   "skip_h1_title": false,
   "title_cell": "Table of Contents",
   "title_sidebar": "Contents",
   "toc_cell": false,
   "toc_position": {},
   "toc_section_display": true,
   "toc_window_display": false
  },
  "vscode": {
   "interpreter": {
    "hash": "b0fa6594d8f4cbf19f97940f81e996739fb7646882a419484c72d19e05852a7e"
   }
  }
 },
 "nbformat": 4,
 "nbformat_minor": 5
}
