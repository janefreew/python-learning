{
 "cells": [
  {
   "attachments": {},
   "cell_type": "markdown",
   "id": "c258db8c",
   "metadata": {},
   "source": [
    "## 错误与异常\n",
    "\n",
    "[链接](https://docs.python.org/3/library/exceptions.html#bltin-exceptions)"
   ]
  },
  {
   "cell_type": "code",
   "execution_count": 1,
   "id": "92a297d9",
   "metadata": {},
   "outputs": [
    {
     "ename": "SyntaxError",
     "evalue": "invalid syntax (1413622104.py, line 2)",
     "output_type": "error",
     "traceback": [
      "\u001b[0;36m  Cell \u001b[0;32mIn[1], line 2\u001b[0;36m\u001b[0m\n\u001b[0;31m    if name is not None\u001b[0m\n\u001b[0m                       ^\u001b[0m\n\u001b[0;31mSyntaxError\u001b[0m\u001b[0;31m:\u001b[0m invalid syntax\n"
     ]
    }
   ],
   "source": [
    "# 语法错误\n",
    "if name is not None\n",
    "    print(name)"
   ]
  },
  {
   "cell_type": "code",
   "execution_count": null,
   "id": "f9ba70d3",
   "metadata": {},
   "outputs": [],
   "source": [
    "10/0"
   ]
  },
  {
   "cell_type": "markdown",
   "id": "c45602f7",
   "metadata": {},
   "source": [
    "## 如何处理异常"
   ]
  },
  {
   "cell_type": "code",
   "execution_count": 2,
   "id": "46067761",
   "metadata": {},
   "outputs": [
    {
     "name": "stdout",
     "output_type": "stream",
     "text": [
      "continue\n"
     ]
    }
   ],
   "source": [
    "try:\n",
    "    s = input('please enter two numbers separated by comma: ')\n",
    "    num1 = int(s.split(',')[0].strip())\n",
    "    num2 = int(s.split(',')[1].strip())\n",
    "    ... \n",
    "except ValueError as err:\n",
    "    print('Value Error: {}'.format(err))\n",
    "\n",
    "print('continue')"
   ]
  },
  {
   "cell_type": "code",
   "execution_count": null,
   "id": "9a934d42",
   "metadata": {},
   "outputs": [],
   "source": [
    "\n",
    "try:\n",
    "    s = input('please enter two numbers separated by comma: ')\n",
    "    num1 = int(s.split(',')[0].strip())\n",
    "    num2 = int(s.split(',')[1].strip())\n",
    "    ...\n",
    "except (ValueError, IndexError) as err:\n",
    "    print('Error: {}'.format(err))\n",
    "    \n",
    "print('continue')"
   ]
  },
  {
   "cell_type": "markdown",
   "id": "d49ced13",
   "metadata": {},
   "source": [
    "需要注意，当程序中存在多个 except block 时，最多只有一个 except block 会被执行。换句话说，如果多个 except 声明的异常类型都与实际相匹配，那么只有最前面的 except block 会被执行，其他则被忽略。"
   ]
  },
  {
   "cell_type": "markdown",
   "id": "75e0c77f",
   "metadata": {},
   "source": [
    "### finally\n",
    "\n",
    "异常处理中，还有一个很常见的用法是 finally，经常和 try、except 放在一起来用。无论发生什么情况，finally block 中的语句都会被执行，哪怕前面的 try 和 excep block 中使用了 return 语句。"
   ]
  },
  {
   "cell_type": "code",
   "execution_count": null,
   "id": "50107776",
   "metadata": {},
   "outputs": [],
   "source": [
    "import sys\n",
    "try:\n",
    "    f = open('file.txt', 'r')\n",
    "     # some data processing\n",
    "except OSError as err:\n",
    "    print('OS error: {}'.format(err))\n",
    "except:\n",
    "    print('Unexpected error:', sys.exc_info()[0])\n",
    "finally:\n",
    "    print(\"finally....\")\n",
    "    f.close()"
   ]
  },
  {
   "cell_type": "markdown",
   "id": "bb7172c2",
   "metadata": {},
   "source": [
    "## 用户自定义异常"
   ]
  },
  {
   "cell_type": "code",
   "execution_count": null,
   "id": "bb2c443b",
   "metadata": {},
   "outputs": [],
   "source": [
    "\n",
    "class MyInputError(Exception):\n",
    "    \"\"\"Exception raised when there're errors in input\"\"\"\n",
    "    def __init__(self, value): # 自定义异常类型的初始化\n",
    "        self.value = value\n",
    "    def __str__(self): # 自定义异常类型的string表达形式\n",
    "        return (\"{} is invalid input\".format(repr(self.value)))\n",
    "    \n",
    "try:\n",
    "    raise MyInputError(1) # 抛出MyInputError这个异常\n",
    "except MyInputError as err:\n",
    "    print('error: {}'.format(err))"
   ]
  },
  {
   "cell_type": "markdown",
   "id": "75b681c7",
   "metadata": {},
   "source": [
    "## 异常的使用场景与注意点"
   ]
  }
 ],
 "metadata": {
  "kernelspec": {
   "display_name": "mltools",
   "language": "python",
   "name": "python3"
  },
  "language_info": {
   "codemirror_mode": {
    "name": "ipython",
    "version": 3
   },
   "file_extension": ".py",
   "mimetype": "text/x-python",
   "name": "python",
   "nbconvert_exporter": "python",
   "pygments_lexer": "ipython3",
   "version": "3.8.15"
  },
  "vscode": {
   "interpreter": {
    "hash": "ce1cd4a375fc1416293ca7d886fb469d5d778c783bfa8fb4db8e9db71b828d70"
   }
  }
 },
 "nbformat": 4,
 "nbformat_minor": 5
}
