{
 "cells": [
  {
   "attachments": {},
   "cell_type": "markdown",
   "metadata": {},
   "source": [
    "# 什么是上下文管理器？\n",
    "在任何一门编程语言中，文件的输入输出、数据库的连接断开等，都是很常见的资源管理操作。但资源都是有限的，在写程序时，我们必须保证这些资源在使用过后得到释放，不然就容易造成资源泄露，轻者使得系统处理缓慢，重则会使系统崩溃。\n",
    "## with 语句\n",
    "- 上下文管理器，能够帮助你自动分配并且释放资源，其中最典型的应用便是 with 语句。\n",
    "    - 打开文件\n",
    "    - 另外一个典型的例子，是 Python 中的 threading.lock 类。\n"
   ]
  },
  {
   "cell_type": "code",
   "execution_count": 1,
   "metadata": {},
   "outputs": [],
   "source": [
    "import threading\n",
    "some_lock = threading.Lock()\n",
    "some_lock.acquire()\n",
    "try:\n",
    "    ...\n",
    "finally:\n",
    "    some_lock.release()"
   ]
  },
  {
   "cell_type": "code",
   "execution_count": 3,
   "metadata": {},
   "outputs": [],
   "source": [
    "'''\n",
    " 而对应的 with 语句，同样非常简洁：\n",
    "'''\n",
    "some_lock = threading.Lock()\n",
    "with some_lock:\n",
    "    ..."
   ]
  },
  {
   "attachments": {},
   "cell_type": "markdown",
   "metadata": {},
   "source": [
    "# 上下文管理器的实现\n",
    "\n",
    "## 基于类的上下文管理器\n",
    " - with的实现依赖于__enter__和__exit__这两个方法。\n",
    "    - 方法“\\__enter__()”返回需要被管理的资源\n",
    "    - 方法“\\__exit__()”里通常会存在一些释放、清理资源的操作\n",
    " - 方法“\\__exit__()”中的参数“**exc_type, exc_val, exc_tb**”，分别表示 exception_type、exception_value 和 traceback。当我们执行含有上下文管理器的 with 语句时，如果有异常抛出，异常的信息就会包含在这三个变量中，传入方法“\\__exit__()”。\n",
    " "
   ]
  },
  {
   "cell_type": "code",
   "execution_count": 4,
   "metadata": {},
   "outputs": [
    {
     "name": "stdout",
     "output_type": "stream",
     "text": [
      "calling __init__ method\n",
      "calling __enter__ method\n",
      "ready to write to file\n",
      "calling __exit__ method\n"
     ]
    }
   ],
   "source": [
    "\n",
    "class FileManager:\n",
    "    def __init__(self, name, mode):\n",
    "        print('calling __init__ method')\n",
    "        self.name = name\n",
    "        self.mode = mode \n",
    "        self.file = None\n",
    "        \n",
    "    def __enter__(self):\n",
    "        print('calling __enter__ method')\n",
    "        self.file = open(self.name, self.mode)\n",
    "        return self.file\n",
    "\n",
    "\n",
    "    def __exit__(self, exc_type, exc_val, exc_tb):\n",
    "        print('calling __exit__ method')\n",
    "        if self.file:\n",
    "            self.file.close()\n",
    "            \n",
    "with FileManager('test.txt', 'w') as f:\n",
    "    print('ready to write to file')\n",
    "    f.write('hello world')"
   ]
  },
  {
   "cell_type": "code",
   "execution_count": 5,
   "metadata": {},
   "outputs": [
    {
     "name": "stdout",
     "output_type": "stream",
     "text": [
      "__init__ called\n",
      "__enter__ called\n",
      "__exit__ called\n",
      "exc_type: <class 'Exception'>\n",
      "exc_value: exception raised\n",
      "exc_traceback: <traceback object at 0x1076b2640>\n",
      "exception handled\n"
     ]
    }
   ],
   "source": [
    "class Foo:\n",
    "    def __init__(self):\n",
    "        print('__init__ called')        \n",
    "\n",
    "    def __enter__(self):\n",
    "        print('__enter__ called')\n",
    "        return self\n",
    "    \n",
    "    def __exit__(self, exc_type, exc_value, exc_tb):\n",
    "        print('__exit__ called')\n",
    "        if exc_type:\n",
    "            print(f'exc_type: {exc_type}')\n",
    "            print(f'exc_value: {exc_value}')\n",
    "            print(f'exc_traceback: {exc_tb}')\n",
    "            print('exception handled')\n",
    "        return True\n",
    "    \n",
    "with Foo() as obj:\n",
    "    raise Exception('exception raised').with_traceback(None)"
   ]
  },
  {
   "cell_type": "code",
   "execution_count": null,
   "metadata": {},
   "outputs": [],
   "source": [
    "\n",
    "class DBConnectionManager: \n",
    "    def __init__(self, hostname, port): \n",
    "        self.hostname = hostname \n",
    "        self.port = port \n",
    "        self.connection = None\n",
    "  \n",
    "    def __enter__(self): \n",
    "        self.connection = DBClient(self.hostname, self.port) \n",
    "        return self\n",
    "  \n",
    "    def __exit__(self, exc_type, exc_val, exc_tb): \n",
    "        self.connection.close() \n",
    "  \n",
    "with DBConnectionManager('localhost', '8080') as db_client:"
   ]
  },
  {
   "attachments": {},
   "cell_type": "markdown",
   "metadata": {},
   "source": [
    "## 基于生成器的上下文管理器\n",
    "\n",
    "- 装饰器contextlib.contextmanager"
   ]
  },
  {
   "cell_type": "code",
   "execution_count": null,
   "metadata": {},
   "outputs": [],
   "source": [
    "from contextlib import contextmanager\n",
    "\n",
    "@contextmanager\n",
    "def file_manager(name, mode):\n",
    "    try:\n",
    "        f = open(name, mode)\n",
    "        yield f\n",
    "    finally:\n",
    "        f.close()\n",
    "        \n",
    "with file_manager('test.txt', 'w') as f:\n",
    "    f.write('hello world')"
   ]
  },
  {
   "attachments": {},
   "cell_type": "markdown",
   "metadata": {},
   "source": [
    "- 基于类的上下文管理器更加 flexible，适用于大型的系统开发；\n",
    "- 而基于生成器的上下文管理器更加方便、简洁，适用于中小型程序。"
   ]
  }
 ],
 "metadata": {
  "kernelspec": {
   "display_name": "mltools",
   "language": "python",
   "name": "python3"
  },
  "language_info": {
   "codemirror_mode": {
    "name": "ipython",
    "version": 3
   },
   "file_extension": ".py",
   "mimetype": "text/x-python",
   "name": "python",
   "nbconvert_exporter": "python",
   "pygments_lexer": "ipython3",
   "version": "3.8.15 | packaged by conda-forge | (default, Nov 22 2022, 08:49:06) \n[Clang 14.0.6 ]"
  },
  "orig_nbformat": 4,
  "vscode": {
   "interpreter": {
    "hash": "ce1cd4a375fc1416293ca7d886fb469d5d778c783bfa8fb4db8e9db71b828d70"
   }
  }
 },
 "nbformat": 4,
 "nbformat_minor": 2
}
