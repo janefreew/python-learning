{
 "cells": [
  {
   "cell_type": "code",
   "execution_count": null,
   "id": "250d0517",
   "metadata": {},
   "outputs": [],
   "source": [
    "l1 = [1, 2, 3]\n",
    "l2 = list(l1)"
   ]
  },
  {
   "cell_type": "markdown",
   "id": "d1c76d57",
   "metadata": {},
   "source": [
    "* l2 是 l1 的浅拷贝（shallow copy）还是深度拷贝（deep copy）呢？\n",
    "* a == b是比较两个对象的值相等，还是两个对象完全相等呢？\n",
    "\n",
    "---\n"
   ]
  },
  {
   "cell_type": "markdown",
   "id": "65ae9340",
   "metadata": {},
   "source": [
    "# '==' VS 'is'\n",
    "\n",
    "'=='操作符比较对象之间的**值是否相等**\n",
    "\n",
    "'is'操作符比较的是对象的身份标识是否相等，即它们**是否是同一个对象**，是否指向同一个内存地址"
   ]
  },
  {
   "cell_type": "code",
   "execution_count": 3,
   "id": "b9b2f344",
   "metadata": {},
   "outputs": [
    {
     "data": {
      "text/plain": [
       "True"
      ]
     },
     "execution_count": 3,
     "metadata": {},
     "output_type": "execute_result"
    }
   ],
   "source": [
    "a =1\n",
    "b =1\n",
    "a == b"
   ]
  },
  {
   "cell_type": "markdown",
   "id": "29f42311",
   "metadata": {},
   "source": [
    "每个对象的身份标识，都能通过函数 id(object) 获得。因此，'is'操作符，相当于比较对象之间的 ID 是否相等"
   ]
  },
  {
   "cell_type": "code",
   "execution_count": 4,
   "id": "9ab61fad",
   "metadata": {},
   "outputs": [
    {
     "data": {
      "text/plain": [
       "True"
      ]
     },
     "execution_count": 4,
     "metadata": {},
     "output_type": "execute_result"
    }
   ],
   "source": [
    "a = 10\n",
    "b = 10\n",
    "\n",
    "a == b\n",
    "\n",
    "id(a)\n",
    "\n",
    "id(b)\n",
    "\n",
    "a is b\n"
   ]
  },
  {
   "cell_type": "code",
   "execution_count": null,
   "id": "e083d9f0",
   "metadata": {},
   "outputs": [],
   "source": []
  }
 ],
 "metadata": {
  "kernelspec": {
   "display_name": "mltools",
   "language": "python",
   "name": "python3"
  },
  "language_info": {
   "codemirror_mode": {
    "name": "ipython",
    "version": 3
   },
   "file_extension": ".py",
   "mimetype": "text/x-python",
   "name": "python",
   "nbconvert_exporter": "python",
   "pygments_lexer": "ipython3",
   "version": "3.8.15 | packaged by conda-forge | (default, Nov 22 2022, 08:49:06) \n[Clang 14.0.6 ]"
  },
  "toc": {
   "base_numbering": 1,
   "nav_menu": {},
   "number_sections": true,
   "sideBar": true,
   "skip_h1_title": false,
   "title_cell": "Table of Contents",
   "title_sidebar": "Contents",
   "toc_cell": false,
   "toc_position": {},
   "toc_section_display": true,
   "toc_window_display": false
  },
  "vscode": {
   "interpreter": {
    "hash": "ce1cd4a375fc1416293ca7d886fb469d5d778c783bfa8fb4db8e9db71b828d70"
   }
  }
 },
 "nbformat": 4,
 "nbformat_minor": 5
}
