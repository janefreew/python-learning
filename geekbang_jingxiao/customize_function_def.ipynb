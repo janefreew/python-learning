{
 "cells": [
  {
   "cell_type": "markdown",
   "id": "ba6b1a51",
   "metadata": {},
   "source": [
    "## 函数基础\n",
    "\n",
    "* 在函数最后，你可以返回调用结果（return 或 yield），也可以不返回\n",
    "* 和其他需要编译的语言（比如 C 语言）不一样的是，def 是可执行语句，这意味着函数直到被调用前，都是不存在的。当程序调用函数时，def 语句才会创建一个新的函数对象，并赋予其名字。"
   ]
  },
  {
   "cell_type": "markdown",
   "id": "f58fcd22",
   "metadata": {},
   "source": [
    "isinstance（）\n",
    "\n",
    "* 描述\n",
    "\n",
    "isinstance() 函数来判断一个对象是否是一个已知的类型，类似 type()。 \n",
    "\n",
    "\n",
    ">isinstance() 与 type() 区别：\n",
    "\n",
    ">type() 不会认为子类是一种父类类型，不考虑继承关系。\n",
    "\n",
    ">isinstance() 会认为子类是一种父类类型，考虑继承关系。\n",
    "\n",
    ">如果要判断两个类型是否相同推荐使用 isinstance()。\n",
    "\n",
    "---\n",
    "\n",
    "* 语法\n",
    "\n",
    "\n",
    "---\n",
    "\n",
    "* 参数\n",
    "\n",
    "---\n",
    "\n",
    "* 返回值"
   ]
  },
  {
   "cell_type": "markdown",
   "id": "ee1e3726",
   "metadata": {},
   "source": [
    "* 在调用函数 func() 时，如果参数 param 没有传入，则参数默认为 0；而如果传入了参数 param，其就会覆盖默认值。\n",
    "+ Python 和其他语言相比的一大特点是，Python 是 *dynamically typed* 的，可以**接受任何数据类型**（整型，浮点，字符串等等）。\n",
    "\n",
    "---\n",
    "* 在编程语言中，我们把这种行为称为多态。这也是 Python 和其他语言，比如 Java、C 等很大的一个不同点。当然，Python 这种方便的特性，在实际使用中也会带来诸多问题。因此，必要时请你在开头加上数据的类型检查。"
   ]
  },
  {
   "cell_type": "markdown",
   "id": "51ae135a",
   "metadata": {},
   "source": [
    "## 函数嵌套\n",
    "\n",
    "* 作用\n",
    "\n",
    "1. 函数的嵌套能够保证内部函数的隐私。\n",
    "2. 合理的使用函数嵌套，能够提高程序的运行效率。"
   ]
  },
  {
   "cell_type": "code",
   "execution_count": 1,
   "id": "f3994ec4",
   "metadata": {},
   "outputs": [
    {
     "name": "stdout",
     "output_type": "stream",
     "text": [
      "hello\n",
      "world\n"
     ]
    }
   ],
   "source": [
    "\n",
    "def f1():\n",
    "    print('hello')\n",
    "    def f2():\n",
    "        print('world')\n",
    "    f2()\n",
    "f1()"
   ]
  },
  {
   "cell_type": "markdown",
   "id": "fba43825",
   "metadata": {},
   "source": [
    "## 函数变量作用域\n",
    "\n",
    "* 不能在函数内部随意改变全局变量的值。\n",
    "\n",
    "&emsp; 如果我们一定要在函数内部改变全局变量的值，就必须加上 **global**这个声明\n",
    "\n",
    "\n",
    "* 对于嵌套函数来说，内部函数可以访问外部函数定义的变量，但是无法修改，若要修改，必须加上 nonlocal 这个关键字"
   ]
  },
  {
   "cell_type": "code",
   "execution_count": 2,
   "id": "17c5e937",
   "metadata": {},
   "outputs": [
    {
     "name": "stdout",
     "output_type": "stream",
     "text": [
      "inner: nonlocal\n",
      "outer: nonlocal\n"
     ]
    }
   ],
   "source": [
    "\n",
    "def outer():\n",
    "    x = \"local\"\n",
    "    def inner():\n",
    "        nonlocal x # nonlocal关键字表示这里的x就是外部函数outer定义的变量x\n",
    "        x = 'nonlocal'\n",
    "        print(\"inner:\", x)\n",
    "    inner()\n",
    "    print(\"outer:\", x)\n",
    "outer()\n"
   ]
  },
  {
   "cell_type": "markdown",
   "id": "61e14b84",
   "metadata": {},
   "source": [
    "## 闭包（closure）\n",
    "\n",
    "闭包其实和刚刚讲的嵌套函数类似，不同的是，这里外部函数返回的是一个函数，而不是一个具体的值。返回的函数通常赋于一个变量，这个变量可以在后面被继续执行调用。\n"
   ]
  },
  {
   "cell_type": "code",
   "execution_count": 4,
   "id": "b4caab0a",
   "metadata": {},
   "outputs": [
    {
     "data": {
      "text/plain": [
       "<function __main__.nth_power.<locals>.exponent_of(base)>"
      ]
     },
     "execution_count": 4,
     "metadata": {},
     "output_type": "execute_result"
    }
   ],
   "source": [
    "\n",
    "def nth_power(exponent):\n",
    "    def exponent_of(base):\n",
    "        return base ** exponent\n",
    "    return exponent_of # 返回值是exponent_of函数\n",
    "\n",
    "square = nth_power(2) # 计算一个数的平方\n",
    "cube = nth_power(3) # 计算一个数的立方 \n",
    "square\n",
    "\n"
   ]
  },
  {
   "cell_type": "code",
   "execution_count": 5,
   "id": "02e3f3a9",
   "metadata": {},
   "outputs": [
    {
     "data": {
      "text/plain": [
       "<function __main__.nth_power.<locals>.exponent_of(base)>"
      ]
     },
     "execution_count": 5,
     "metadata": {},
     "output_type": "execute_result"
    }
   ],
   "source": [
    "cube"
   ]
  },
  {
   "cell_type": "code",
   "execution_count": 6,
   "id": "c5e8af1f",
   "metadata": {},
   "outputs": [
    {
     "name": "stdout",
     "output_type": "stream",
     "text": [
      "4\n",
      "8\n"
     ]
    }
   ],
   "source": [
    "\n",
    "print(square(2))  # 计算2的平方\n",
    "print(cube(2)) # 计算2的立方"
   ]
  },
  {
   "cell_type": "markdown",
   "id": "77797b2a",
   "metadata": {},
   "source": [
    "**闭包常常和装饰器（decorator）一起使用**"
   ]
  },
  {
   "cell_type": "code",
   "execution_count": null,
   "id": "d2229a64",
   "metadata": {},
   "outputs": [],
   "source": []
  }
 ],
 "metadata": {
  "kernelspec": {
   "display_name": "Python 3 (ipykernel)",
   "language": "python",
   "name": "python3"
  },
  "language_info": {
   "codemirror_mode": {
    "name": "ipython",
    "version": 3
   },
   "file_extension": ".py",
   "mimetype": "text/x-python",
   "name": "python",
   "nbconvert_exporter": "python",
   "pygments_lexer": "ipython3",
   "version": "3.9.12"
  }
 },
 "nbformat": 4,
 "nbformat_minor": 5
}
