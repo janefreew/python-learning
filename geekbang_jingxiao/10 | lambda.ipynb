{
 "cells": [
  {
   "cell_type": "markdown",
   "id": "62a59f8c",
   "metadata": {},
   "source": [
    "## 匿名函数基础"
   ]
  },
  {
   "cell_type": "code",
   "execution_count": null,
   "id": "34a853a5",
   "metadata": {},
   "outputs": [],
   "source": [
    "lambda argument1, argument2,... argumentN : expression"
   ]
  },
  {
   "cell_type": "code",
   "execution_count": 1,
   "id": "37f63af3",
   "metadata": {},
   "outputs": [
    {
     "data": {
      "text/plain": [
       "9"
      ]
     },
     "execution_count": 1,
     "metadata": {},
     "output_type": "execute_result"
    }
   ],
   "source": [
    "square = lambda x: x**2\n",
    "square(3)\n"
   ]
  },
  {
   "cell_type": "markdown",
   "id": "8b666c07",
   "metadata": {},
   "source": [
    "### lambda 是一个表达式（expression），并不是一个语句（statement）。\n",
    "\n",
    "lambda 可以用在一些常规函数 def 不能用的地方，比如，lambda 可以用在列表内部，而常规函数却不能："
   ]
  },
  {
   "cell_type": "code",
   "execution_count": null,
   "id": "ed9b0b40",
   "metadata": {},
   "outputs": [],
   "source": [
    "[(lambda x: x*x)(x) for x in range(10)]\n",
    "# 输出\n",
    "[0, 1, 4, 9, 16, 25, 36, 49, 64, 81]"
   ]
  },
  {
   "cell_type": "markdown",
   "id": "3a1c07b2",
   "metadata": {},
   "source": [
    "再比如，lambda 可以被用作某些函数的参数，而常规函数 def 也不能："
   ]
  },
  {
   "cell_type": "code",
   "execution_count": 3,
   "id": "4e6c2d6a",
   "metadata": {},
   "outputs": [
    {
     "name": "stdout",
     "output_type": "stream",
     "text": [
      "[(2, -1), (3, 0), (9, 10), (1, 20)]\n"
     ]
    }
   ],
   "source": [
    "\n",
    "l = [(1, 20), (3, 0), (9, 10), (2, -1)]\n",
    "l.sort(key=lambda x: x[1]) # 按列表中元组的第二个元素排序\n",
    "print(l)\n",
    "\n"
   ]
  },
  {
   "cell_type": "markdown",
   "id": "ab17cdbf",
   "metadata": {},
   "source": [
    "### 第二，lambda 的主体是只有一行的简单表达式，并不能扩展成一个多行的代码块。\n",
    "\n",
    "这其实是出于设计的考虑。Python 之所以发明 lambda，就是为了让它和常规函数各司其职：lambda 专注于简单的任务，而常规函数则负责更复杂的多行逻辑。\n",
    "\n",
    "https://www.artima.com/weblogs/viewpost.jsp?thread=147358"
   ]
  },
  {
   "cell_type": "markdown",
   "id": "64de93e6",
   "metadata": {},
   "source": [
    "### 为什么要使用匿名函数？\n",
    "\n",
    "\n",
    "通常，我们用函数的目的无非是这么几点：\n",
    "\n",
    "    减少代码的重复性；\n",
    "    模块化代码。\n",
    "    \n",
    "    \n",
    "函数 map(function, iterable) 的第一个参数是函数对象，第二个参数是一个可以遍历的集合，它表示对 iterable 的每一个元素，都运用 function 这个函数。两者一对比，我们很明显地发现，lambda 函数让代码更加简洁明了。"
   ]
  },
  {
   "cell_type": "markdown",
   "id": "2d85401f",
   "metadata": {},
   "source": [
    "## Python函数式编程\n",
    "\n",
    "所谓函数式编程，是指代码中每一块都是不可变的（immutable），都由纯函数（pure function）的形式组成。这里的纯函数，是指函数本身相互独立、互不影响，对于相同的输入，总会有相同的输出，没有任何副作用。"
   ]
  },
  {
   "cell_type": "markdown",
   "id": "5a399775",
   "metadata": {},
   "source": [
    "Python 不同于一些语言（比如 Scala），它并不是一门函数式编程语言，不过，Python 也提供了一些函数式编程的特性，值得我们了解和学习。\n",
    "Python 主要提供了这么几个函数：\n",
    "\n",
    "    map()\n",
    "    filter()\n",
    "    reduce()\n",
    "    通常结合匿名函数 lambda 一起使用。"
   ]
  },
  {
   "cell_type": "markdown",
   "id": "fc789e56",
   "metadata": {},
   "source": [
    "### map()\n",
    "\n",
    "    map(function, iterable) 函数"
   ]
  },
  {
   "cell_type": "code",
   "execution_count": 13,
   "id": "91828782",
   "metadata": {},
   "outputs": [
    {
     "name": "stdout",
     "output_type": "stream",
     "text": [
      "5000000 loops, best of 5: 92 nsec per loop\r\n"
     ]
    }
   ],
   "source": [
    "# for 循环和 list comprehension\n",
    "\n",
    "!python -mtimeit -s'xs=range(1000000)' 'map(lambda x: x*2, xs)'"
   ]
  },
  {
   "cell_type": "code",
   "execution_count": 14,
   "id": "d9a5998e",
   "metadata": {},
   "outputs": [
    {
     "name": "stdout",
     "output_type": "stream",
     "text": [
      "10 loops, best of 5: 34.1 msec per loop\r\n"
     ]
    }
   ],
   "source": [
    "!python -mtimeit -s'xs=range(1000000)' '[x * 2 for x in xs]'"
   ]
  },
  {
   "cell_type": "code",
   "execution_count": 15,
   "id": "38c75406",
   "metadata": {},
   "outputs": [
    {
     "name": "stdout",
     "output_type": "stream",
     "text": [
      "5 loops, best of 5: 50.2 msec per loop\r\n"
     ]
    }
   ],
   "source": [
    "!python -mtimeit -s'xs=range(1000000)' 'l = []' 'for i in xs: l.append(i * 2)'\n",
    "\n"
   ]
  },
  {
   "cell_type": "code",
   "execution_count": 16,
   "id": "ccbfea80",
   "metadata": {},
   "outputs": [],
   "source": [
    "\n",
    "l = [1, 2, 3, 4, 5]\n",
    "new_list = map(lambda x: x * 2, l) \n",
    "# [2， 4， 6， 8， 10]\n"
   ]
  },
  {
   "cell_type": "markdown",
   "id": "cbdea206",
   "metadata": {},
   "source": [
    "### filter(function, iterable)"
   ]
  },
  {
   "cell_type": "code",
   "execution_count": 19,
   "id": "4d386bc9",
   "metadata": {},
   "outputs": [
    {
     "data": {
      "text/plain": [
       "[2, 4]"
      ]
     },
     "execution_count": 19,
     "metadata": {},
     "output_type": "execute_result"
    }
   ],
   "source": [
    "\n",
    "l = [1, 2, 3, 4, 5]\n",
    "new_list = filter(lambda x: x % 2 == 0, l) # [2, 4]\n",
    "list(new_list)\n"
   ]
  },
  {
   "cell_type": "markdown",
   "id": "e9ee3e8c",
   "metadata": {},
   "source": [
    "### reduce(function, iterable)"
   ]
  },
  {
   "cell_type": "code",
   "execution_count": 22,
   "id": "ad2a4c43",
   "metadata": {},
   "outputs": [
    {
     "data": {
      "text/plain": [
       "120"
      ]
     },
     "execution_count": 22,
     "metadata": {},
     "output_type": "execute_result"
    }
   ],
   "source": [
    "from functools import reduce\n",
    "l = [1, 2, 3, 4, 5]\n",
    "product = reduce(lambda x, y: x * y, l) # 1*2*3*4*5 = 120\n",
    "product"
   ]
  },
  {
   "cell_type": "code",
   "execution_count": null,
   "id": "b5e27af7",
   "metadata": {},
   "outputs": [],
   "source": []
  }
 ],
 "metadata": {
  "kernelspec": {
   "display_name": "Python 3 (ipykernel)",
   "language": "python",
   "name": "python3"
  },
  "language_info": {
   "codemirror_mode": {
    "name": "ipython",
    "version": 3
   },
   "file_extension": ".py",
   "mimetype": "text/x-python",
   "name": "python",
   "nbconvert_exporter": "python",
   "pygments_lexer": "ipython3",
   "version": "3.9.12"
  },
  "toc": {
   "base_numbering": 1,
   "nav_menu": {},
   "number_sections": true,
   "sideBar": true,
   "skip_h1_title": false,
   "title_cell": "Table of Contents",
   "title_sidebar": "Contents",
   "toc_cell": false,
   "toc_position": {},
   "toc_section_display": true,
   "toc_window_display": false
  }
 },
 "nbformat": 4,
 "nbformat_minor": 5
}
