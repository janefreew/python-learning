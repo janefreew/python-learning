{
 "cells": [
  {
   "cell_type": "markdown",
   "id": "57ddfdd7",
   "metadata": {},
   "source": [
    "# 简单模块化\n",
    "\n",
    "from your_file import function_name, class_name\n",
    "\n",
    "    "
   ]
  },
  {
   "cell_type": "markdown",
   "id": "bac4b7d6",
   "metadata": {},
   "source": [
    "    \n",
    "使用 . 代替 / 来表示子目录\n",
    "\n",
    "import sys\n",
    "sys.path.append(\"..\") \n",
    "\n",
    "表示将当前程序所在位置向上提了一级"
   ]
  },
  {
   "cell_type": "markdown",
   "id": "10c0b093",
   "metadata": {},
   "source": [
    "# 项目模块化\n",
    "\n",
    "\n",
    "运行 sys.path.append(\"..\") ，则可以改变当前 Python 解释器的位置。不过，一般而言我并不推荐，固定一个确定路径对大型工程来说是非常必要的。\n",
    "\n",
    "因此，在大型工程中尽可能使用绝对位置是第一要义。对于一个独立的项目，所有的模块的追寻方式，最好从项目的根目录开始追溯，这叫做**相对的绝对路径。**\n",
    "\n",
    "\n",
    "以**项目的根目录**作为最基本的目录，所有的模块调用，都要通过根目录一层层向下索引的方式来 import"
   ]
  },
  {
   "cell_type": "markdown",
   "id": "22941e9f",
   "metadata": {},
   "source": [
    "实际上，Python 解释器在遇到 import 的时候，它会在一个**特定的列表中寻找模块**。这个特定的列表，可以用下面的方式拿到："
   ]
  },
  {
   "cell_type": "code",
   "execution_count": 1,
   "id": "b343117c",
   "metadata": {},
   "outputs": [
    {
     "name": "stdout",
     "output_type": "stream",
     "text": [
      "['/Users/cunyang/learning/learningpython', '/opt/homebrew/Caskroom/miniconda/base/lib/python39.zip', '/opt/homebrew/Caskroom/miniconda/base/lib/python3.9', '/opt/homebrew/Caskroom/miniconda/base/lib/python3.9/lib-dynload', '', '/opt/homebrew/Caskroom/miniconda/base/lib/python3.9/site-packages']\n"
     ]
    }
   ],
   "source": [
    "\n",
    "import sys  \n",
    "\n",
    "print(sys.path)\n"
   ]
  },
  {
   "cell_type": "markdown",
   "id": "08221975",
   "metadata": {},
   "source": [
    "**使用命令行进入 src 文件夹,找不到文件，Pycharm 用了什么黑魔法呢？**\n",
    "Pycharm 做的一件事，就是将第一项设置为项目根目录的绝对地址。这样，每次你无论怎么运行 main.py，import 函数在执行的时候，都会去项目根目录中找相应的包。\n",
    "\n",
    "第一种方法，“大力出奇迹”，我们可以强行修改这个位置，这样，你的 import 接下来肯定就畅通无阻了。"
   ]
  },
  {
   "cell_type": "code",
   "execution_count": null,
   "id": "633ace25",
   "metadata": {},
   "outputs": [],
   "source": [
    "import sys\n",
    "\n",
    "sys.path[0] = '/home/ubuntu/workspace/your_projects'"
   ]
  },
  {
   "cell_type": "markdown",
   "id": "58d22785",
   "metadata": {},
   "source": [
    "第二种方法，是修改 PYTHONHOME。这里我稍微提一下 Python 的 Virtual Environment（虚拟运行环境）。Python 可以通过 Virtualenv 工具，非常方便地创建一个全新的 Python 运行环境。"
   ]
  },
  {
   "cell_type": "code",
   "execution_count": null,
   "id": "c83aab2c",
   "metadata": {},
   "outputs": [],
   "source": [
    "export PYTHONPATH=\"/home/ubuntu/workspace/your_projects\""
   ]
  },
  {
   "cell_type": "markdown",
   "id": "507cd351",
   "metadata": {},
   "source": [
    "# 神奇的 if __name__ == '__main__'\n",
    "\n",
    "Python 是脚本语言，和 C++、Java 最大的不同在于，不需要显式提供 main() 函数入口\n",
    "\n"
   ]
  },
  {
   "cell_type": "markdown",
   "id": "619c5644",
   "metadata": {},
   "source": [
    "# from module_name import *和import module_name有什么区别呢？\n",
    "\n",
    "from module_name import * 会把 module 中所有的函数和类全拿过来，如果和其他函数名类名有冲突就会出问题；import model_name 也会导入所有函数和类，但是调用的时候必须使用 model_name.func 的方法来调用，等于增加了一层 layer，有效避免冲突。"
   ]
  }
 ],
 "metadata": {
  "kernelspec": {
   "display_name": "Python 3 (ipykernel)",
   "language": "python",
   "name": "python3"
  },
  "language_info": {
   "codemirror_mode": {
    "name": "ipython",
    "version": 3
   },
   "file_extension": ".py",
   "mimetype": "text/x-python",
   "name": "python",
   "nbconvert_exporter": "python",
   "pygments_lexer": "ipython3",
   "version": "3.9.12"
  },
  "toc": {
   "base_numbering": 1,
   "nav_menu": {},
   "number_sections": true,
   "sideBar": true,
   "skip_h1_title": false,
   "title_cell": "Table of Contents",
   "title_sidebar": "Contents",
   "toc_cell": false,
   "toc_position": {},
   "toc_section_display": true,
   "toc_window_display": false
  }
 },
 "nbformat": 4,
 "nbformat_minor": 5
}
